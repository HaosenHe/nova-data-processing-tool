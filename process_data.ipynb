{
 "cells": [
  {
   "cell_type": "code",
   "execution_count": 129,
   "metadata": {},
   "outputs": [],
   "source": [
    "# Data processing tool for Nova Home Support\n",
    "# IPython Notebook for testing\n",
    "#\n",
    "# Import Python packages\n",
    "# Note: We're only using packages that come with Anaconda standard distribution: https://www.anaconda.com/ \n",
    "import pandas as pd # For importing, manipulating, and exporting data\n",
    "import re # Python regular expression support\n",
    "import datetime # Python datetime conversion support\n",
    "from concurrent.futures import process # Asynchronous callable execution\n",
    "from dateutil.easter import *\n",
    "import holidays\n",
    "from tkinter import * # For user interface\n",
    "from tkinter.ttk import * # UI widgets\n",
    "from tkinter.filedialog import askopenfile, askopenfilename, askdirectory # UI-file system interaction\n",
    "from copy import deepcopy\n",
    "from collections import namedtuple\n",
    "\n",
    "Range = namedtuple('Range', ['start', 'end'])"
   ]
  },
  {
   "cell_type": "code",
   "execution_count": 130,
   "metadata": {},
   "outputs": [],
   "source": [
    "# Read in the dataset\n",
    "df = pd.read_excel('shift.xlsx') \n",
    "# Keep useful columns\n",
    "df = df[['Service 1 Description (Code)', \n",
    "         'Service Provider','Check-In Date',\n",
    "         'Check-In Time',\n",
    "         'Updated Check-In Date',\n",
    "         'Updated Check-In Time',\n",
    "         'Check-Out Date',\n",
    "         'Check-Out Time',\n",
    "         'Updated Check-Out Date',\n",
    "         'Updated Check-Out Time',\n",
    "         'Staff Worked Duration',\n",
    "         'Staff Worked Duration (Minutes)']]"
   ]
  },
  {
   "cell_type": "code",
   "execution_count": 131,
   "metadata": {},
   "outputs": [
    {
     "name": "stderr",
     "output_type": "stream",
     "text": [
      "/var/folders/kl/0xlphzyd1450znbjp9zww9tw0000gn/T/ipykernel_43275/4018409904.py:2: FutureWarning: The default value of regex will change from True to False in a future version.\n",
      "  df['Service 1 Description (Code)'] = df['Service 1 Description (Code)'].str.replace(r'\\(.*\\)', '')\n"
     ]
    }
   ],
   "source": [
    "# Remove parentheses and everything within them\n",
    "df['Service 1 Description (Code)'] = df['Service 1 Description (Code)'].str.replace(r'\\(.*\\)', '')\n",
    "\n",
    "# Remove prefix if it exists\n",
    "prefix = 'RC-SDP-CLS-320 '\n",
    "df['Service 1 Description (Code)'] = df['Service 1 Description (Code)'].apply(lambda x: x[len(prefix):] if x.startswith(prefix) else x)\n",
    "df['Service 1 Description (Code)'] = df['Service 1 Description (Code)'].apply(lambda x: x.rstrip())"
   ]
  },
  {
   "cell_type": "code",
   "execution_count": 132,
   "metadata": {},
   "outputs": [],
   "source": [
    "# Remove everything after \" /\"\n",
    "df['Service Provider'] = df['Service Provider'].str.split(' /', n=1).str[0]"
   ]
  },
  {
   "cell_type": "code",
   "execution_count": 133,
   "metadata": {},
   "outputs": [],
   "source": [
    "# Replace Date/Time with Updated Date/Time if the latter is not NaN\n",
    "df['Check-In Date'] = df['Updated Check-In Date'].fillna(df['Check-In Date'])\n",
    "df['Check-In Time'] = df['Updated Check-In Time'].fillna(df['Check-In Time'])\n",
    "df['Check-Out Date'] = df['Updated Check-Out Date'].fillna(df['Check-Out Date'])\n",
    "df['Check-Out Time'] = df['Updated Check-Out Time'].fillna(df['Check-Out Time'])\n",
    "df.drop(['Updated Check-In Date', 'Updated Check-In Time','Updated Check-Out Date', 'Updated Check-Out Time'], axis=1, inplace=True)"
   ]
  },
  {
   "cell_type": "code",
   "execution_count": 134,
   "metadata": {},
   "outputs": [],
   "source": [
    "# Create datetime series in Python format\n",
    "CIDT = df['Check-In Date'].str.cat(df['Check-In Time'], sep=' ')\n",
    "CODT = df['Check-Out Date'].str.cat(df['Check-Out Time'], sep=' ')\n",
    "CIDT = CIDT.apply(lambda x: datetime.datetime.strptime(x, r'%m/%d/%Y %I:%M %p'))\n",
    "CODT = CODT.apply(lambda x: datetime.datetime.strptime(x, r'%m/%d/%Y %I:%M %p'))\n",
    "df['CIDT'] = CIDT\n",
    "df['CODT'] = CODT"
   ]
  },
  {
   "cell_type": "code",
   "execution_count": 135,
   "metadata": {},
   "outputs": [],
   "source": [
    "# Calculate time difference from check-in and check-out datetimes\n",
    "CTD = (CODT - CIDT).dt.total_seconds() / 60\n",
    "# Convert Staff Work Duration from Hour:Minutes to Minutes\n",
    "SWD_min = df['Staff Worked Duration'].apply(lambda x: (int(x.split(':')[0]) * 60) + int(x.split(':')[1]))"
   ]
  },
  {
   "cell_type": "code",
   "execution_count": 136,
   "metadata": {},
   "outputs": [],
   "source": [
    "# Sanity check:\n",
    "# 1. Check if Staff Work Duration ==  Staff Work Duration (Minutes)\n",
    "sanity1 = (SWD_min == df['Staff Worked Duration (Minutes)'])\n",
    "# 2. Check if |Staff Work Duration (Minutes) - Calculated Time Difference| <= 1\n",
    "sanity2 = ((df['Staff Worked Duration (Minutes)'] - CTD).abs() <= 1.1) # 1.1 to avoid float precision issues\n",
    "df[\"Error Check\"] = (sanity1 & sanity2) # The data is \"sane\" only when both checks are passed"
   ]
  },
  {
   "cell_type": "code",
   "execution_count": 137,
   "metadata": {},
   "outputs": [],
   "source": [
    "#PAYROLL\n",
    "df = df.rename(columns={'Service 1 Description (Code)': 'Shift Code'})\n",
    "df_payroll = deepcopy(df.loc[~df['Shift Code'].str.contains('Adaptive Behavior Treatment')])\n",
    "# split the 'Service Provider' column on comma separator and extract First name and Surname\n",
    "df_payroll[['Surname', 'First Name']] = df_payroll['Service Provider'].str.split(', ', expand=True)\n",
    "# concatenate First name and Surname columns in the desired order\n",
    "df_payroll['Service Provider'] = df_payroll['First Name'] + ' ' + df_payroll['Surname']\n",
    "# drop First name and Surname columns\n",
    "df_payroll.drop(columns=['First Name', 'Surname'], inplace=True)\n",
    "# Now process billing:\n",
    "# Read \"Manger Rates\" sheet\n",
    "manager_rates = pd.read_excel(\"billing.xlsx\", sheet_name=\"Manager Rates\")\n",
    "# Read \"Non-manager Rates\" sheet\n",
    "non_manager_rates = pd.read_excel(\"billing.xlsx\", sheet_name=\"Non-manager Rates\")\n",
    "non_manager_rates = non_manager_rates[['Shift Code', 'Regular Hourly Wage', 'BOT Calculation', 'Hours Accrued']]\n",
    "#merge:\n",
    "df_payroll=pd.merge(df_payroll, non_manager_rates, how='left', on='Shift Code')"
   ]
  },
  {
   "cell_type": "code",
   "execution_count": 144,
   "metadata": {},
   "outputs": [],
   "source": [
    "def approved_holiday(YEARS):\n",
    "    approved_holiday = set()\n",
    "    holiday_set = set([\"Thanksgiving\", \"Christmas Day\"])\n",
    "    for year in YEARS:\n",
    "        ah = {k for k, v in holidays.US(years=year).items() if v in holiday_set}\n",
    "        approved_holiday = approved_holiday.union(ah)\n",
    "        approved_holiday.add(easter(year))\n",
    "        approved_holiday.add(datetime.date(year, 12, 24))\n",
    "        approved_holiday.add(datetime.date(year, 12, 31))\n",
    "        approved_holiday.add(datetime.date(year-1, 12, 31))\n",
    "    return approved_holiday\n",
    "\n",
    "def approved_holiday_hours(YEARS):\n",
    "    approved_holiday_dt = []\n",
    "    for x in approved_holiday(YEARS):\n",
    "        if (x.month == 12 and x.day == 31):\n",
    "            approved_holiday_dt.append(Range(start = datetime.datetime.combine(x, datetime.time(hour=23)),end = datetime.datetime.combine(x+datetime.timedelta(days=1), datetime.time(hour=23))))\n",
    "        else:\n",
    "            approved_holiday_dt.append(Range(start = datetime.datetime.combine(x, datetime.time(hour=7)), end = datetime.datetime.combine(x, datetime.time(hour=23))))\n",
    "    return approved_holiday_dt\n",
    "\n",
    "def work_holiday_overlap(work_range, ahh_list):\n",
    "    total_overlap = 0.0\n",
    "    for ahh in ahh_list:\n",
    "        latest_start = max(work_range.start, ahh.start)\n",
    "        earliest_end = min(work_range.end, ahh.end)\n",
    "        delta = (earliest_end - latest_start)\n",
    "        overlap = max(0, delta.total_seconds())\n",
    "        total_overlap += overlap\n",
    "    return total_overlap/60 #in minutes\n",
    "\n",
    "def calc_holiday_hours(df_payroll):\n",
    "        years = set([min([df_payroll['CIDT'][i].year for i in range(len(df_payroll))]), max([df_payroll['CODT'][i].year for i in range(len(df_payroll))])])\n",
    "        duration_range = [Range(start = df_payroll['CIDT'][i].to_pydatetime(), end = df_payroll['CODT'][i].to_pydatetime()) for i in range(len(df_payroll))]\n",
    "        ahh_list = approved_holiday_hours(years)\n",
    "        holiday_hours = [work_holiday_overlap(duration_range[i], ahh_list) for i in range(len(df_payroll))]\n",
    "        df_payroll['Holiday Hours'] = holiday_hours\n",
    "        \n",
    "def is_manager(name, manager_rates):\n",
    "    return name in set(manager_rates['Name'])\n",
    "\n",
    "def manager_is_exempt(name, df_payroll):\n",
    "    exempt_mins = df_payroll.loc[(df_payroll['Service Provider'] == name) & (df_payroll['Shift Code'] == 'MGR Direct Care')]['Staff Worked Duration (Minutes)'].sum()\n",
    "    non_exempt_mins = df_payroll.loc[(df_payroll['Service Provider'] == name) & (df_payroll['Shift Code'] != 'MGR Direct Care')]['Staff Worked Duration (Minutes)'].sum()\n",
    "    return (exempt_mins >= non_exempt_mins)\n",
    "\n",
    "def worked_overtime(name, df_payroll):\n",
    "    return df_payroll.loc[df_payroll['Service Provider'] == name]['Staff Worked Duration (Minutes)'].sum() > (40*60)\n"
   ]
  },
  {
   "cell_type": "code",
   "execution_count": null,
   "metadata": {},
   "outputs": [],
   "source": []
  }
 ],
 "metadata": {
  "kernelspec": {
   "display_name": "Python 3",
   "language": "python",
   "name": "python3"
  },
  "language_info": {
   "codemirror_mode": {
    "name": "ipython",
    "version": 3
   },
   "file_extension": ".py",
   "mimetype": "text/x-python",
   "name": "python",
   "nbconvert_exporter": "python",
   "pygments_lexer": "ipython3",
   "version": "3.9.13"
  },
  "orig_nbformat": 4
 },
 "nbformat": 4,
 "nbformat_minor": 2
}
